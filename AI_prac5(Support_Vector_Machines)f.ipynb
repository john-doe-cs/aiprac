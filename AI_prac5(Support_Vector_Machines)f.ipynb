{
  "nbformat": 4,
  "nbformat_minor": 0,
  "metadata": {
    "colab": {
      "provenance": [],
      "authorship_tag": "ABX9TyMxUa7yt8TCydyOjlRXzxwe",
      "include_colab_link": true
    },
    "kernelspec": {
      "name": "python3",
      "display_name": "Python 3"
    },
    "language_info": {
      "name": "python"
    }
  },
  "cells": [
    {
      "cell_type": "markdown",
      "metadata": {
        "id": "view-in-github",
        "colab_type": "text"
      },
      "source": [
        "<a href=\"https://colab.research.google.com/github/john-doe-cs/aiprac/blob/main/AI_prac5(Support_Vector_Machines)f.ipynb\" target=\"_parent\"><img src=\"https://colab.research.google.com/assets/colab-badge.svg\" alt=\"Open In Colab\"/></a>"
      ]
    },
    {
      "cell_type": "code",
      "execution_count": null,
      "metadata": {
        "colab": {
          "base_uri": "https://localhost:8080/"
        },
        "id": "Ly5VHNnchO3u",
        "outputId": "78d5f10f-f36c-4a63-8f74-c9afa89b8d9c"
      },
      "outputs": [
        {
          "output_type": "stream",
          "name": "stdout",
          "text": [
            "Train size (614, 7)\n",
            "Test Size: (154, 7)\n",
            "predicted values:- [1 0 0 1 0 0 1 1 0 0 1 1 0 0 0 0 1 0 0 0 1 0 0 0 0 0 0 1 0 0 0 0 0 0 0 1 0\n",
            " 0 0 1 0 0 0 1 1 0 0 0 0 0 0 0 1 0 0 0 0 0 0 0 1 0 0 0 1 1 1 0 0 0 0 0 0 1\n",
            " 1 0 0 1 0 0 0 0 0 0 0 0 0 0 1 0 0 0 0 0 1 0 0 1 0 0 0 0 0 0 0 0 0 0 0 1 0\n",
            " 0 1 0 1 1 0 1 0 0 0 0 0 0 0 0 0 0 0 1 0 0 0 1 0 0 0 0 0 0 0 1 0 0 0 0 0 0\n",
            " 0 0 0 1 0 0]\n",
            "Accuracy: 0.7922077922077922\n",
            "Confusion Matrix: [[98  9]\n",
            " [23 24]]\n",
            "              precision    recall  f1-score   support\n",
            "\n",
            "           0       0.81      0.92      0.86       107\n",
            "           1       0.73      0.51      0.60        47\n",
            "\n",
            "    accuracy                           0.79       154\n",
            "   macro avg       0.77      0.71      0.73       154\n",
            "weighted avg       0.78      0.79      0.78       154\n",
            "\n"
          ]
        }
      ],
      "source": [
        "#Support Vector Machines\n",
        "\n",
        "#import required packages\n",
        "import pandas as pd\n",
        "import numpy as np\n",
        "from sklearn.metrics import accuracy_score\n",
        "from sklearn.metrics import classification_report\n",
        "from sklearn.metrics import confusion_matrix\n",
        "from sklearn.model_selection import train_test_split\n",
        "from sklearn import svm\n",
        "\n",
        "\n",
        "#Read CSV File\n",
        "df = pd.read_csv('/content/diabetes.csv')\n",
        "df.head()\n",
        "df.shape\n",
        "df.describe()\n",
        "\n",
        "# Checking for missing values.\n",
        "df.isnull().values.any()\n",
        "\n",
        "#Feature Engineering to replace 0 with avg\n",
        "\n",
        "zero_not_allowed = [\"Glucose\",\"BloodPressure\",\"SkinThickness\"]\n",
        "for column in zero_not_allowed:\n",
        "    df[column] = df[column].replace(0, np.NaN)\n",
        "    mean = int(df[column].mean(skipna = True))\n",
        "    df[column] = df[column].replace(np.NaN, mean)\n",
        "df.describe()\n",
        "\n",
        "\n",
        "# Splitting the dataset into training and testing sets.\n",
        "x = df.iloc[:, :-2]\n",
        "y = df.iloc[:, -1]\n",
        "x_train, x_test, y_train, y_test = train_test_split(x, y, random_state = 0, test_size = 0.2)\n",
        "\n",
        "print(\"Train size\",x_train.shape)\n",
        "print(\"Test Size:\",x_test.shape)\n",
        "\n",
        "# Creating the SVM model.\n",
        "clf = svm.SVC(kernel='rbf')\n",
        "clf.fit(x_train,y_train)\n",
        "#Test the Model on Test Data\n",
        "y_pred = clf.predict(x_test)\n",
        "print(\"predicted values:-\",y_pred)\n",
        "\n",
        "#Evaluate the model\n",
        "print(\"Accuracy:\", accuracy_score(y_test, y_pred))\n",
        "\n",
        "#Confusion Matrix\n",
        "cm=confusion_matrix(y_test,y_pred)\n",
        "print(\"Confusion Matrix:\",cm)\n",
        "\n",
        "#Other efficiency metrics\n",
        "print(classification_report(y_test,y_pred))"
      ]
    },
    {
      "cell_type": "code",
      "source": [
        "import numpy as np\n",
        "import pandas as pd\n",
        "from sklearn.svm import SVC\n",
        "from sklearn.model_selection import train_test_split\n",
        "from sklearn.metrics import accuracy_score\n",
        "\n",
        "#Loading the dataset\n",
        "data=pd.read_csv('/content/IRIS.csv')\n",
        "x=data.drop('species',axis=1)\n",
        "y=data['species']\n",
        "X_train,X_test,y_train,y_test=train_test_split(x,y,test_size=0.2,random_state=42)\n",
        "svm_classifier=SVC(kernel='linear')\n",
        "svm_classifier.fit(X_train,y_train)\n",
        "y_pred=svm_classifier.predict(X_test)\n",
        "accuracy=accuracy_score(y_test,y_pred)\n",
        "print(f'Accuracy: {accuracy:.2f}')"
      ],
      "metadata": {
        "colab": {
          "base_uri": "https://localhost:8080/"
        },
        "id": "WFdVn83kh7I1",
        "outputId": "f3009c03-84ed-4851-d989-51eeceb61209"
      },
      "execution_count": null,
      "outputs": [
        {
          "output_type": "stream",
          "name": "stdout",
          "text": [
            "Accuracy: 1.00\n"
          ]
        }
      ]
    }
  ]
}