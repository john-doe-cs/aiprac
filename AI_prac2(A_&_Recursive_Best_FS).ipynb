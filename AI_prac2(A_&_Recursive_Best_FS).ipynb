{
  "nbformat": 4,
  "nbformat_minor": 0,
  "metadata": {
    "colab": {
      "provenance": [],
      "authorship_tag": "ABX9TyP6wjy9bydbywaeII3G+2u4",
      "include_colab_link": true
    },
    "kernelspec": {
      "name": "python3",
      "display_name": "Python 3"
    },
    "language_info": {
      "name": "python"
    }
  },
  "cells": [
    {
      "cell_type": "markdown",
      "metadata": {
        "id": "view-in-github",
        "colab_type": "text"
      },
      "source": [
        "<a href=\"https://colab.research.google.com/github/john-doe-cs/aiprac/blob/main/AI_prac2(A_%26_Recursive_Best_FS).ipynb\" target=\"_parent\"><img src=\"https://colab.research.google.com/assets/colab-badge.svg\" alt=\"Open In Colab\"/></a>"
      ]
    },
    {
      "cell_type": "code",
      "execution_count": null,
      "metadata": {
        "colab": {
          "base_uri": "https://localhost:8080/"
        },
        "id": "P4oez4X1dcP4",
        "outputId": "b3776668-b6ea-496c-93de-433332768918"
      },
      "outputs": [
        {
          "output_type": "stream",
          "name": "stdout",
          "text": [
            "Path found: ['Arad', 'Sibiu', 'Rimnicu Vilcea', 'Pitesti', 'Bucharest']\n"
          ]
        }
      ],
      "source": [
        "# **A * Search**\n",
        "\n",
        "import heapq\n",
        "\n",
        "# Define the map of Romania with distances between cities\n",
        "romania_map = {\n",
        "    'Arad': {'Zerind': 75, 'Timisoara': 118, 'Sibiu': 140},\n",
        "    'Zerind': {'Arad': 75, 'Oradea': 71},\n",
        "    'Timisoara': {'Arad': 118, 'Lugoj': 111},\n",
        "    'Sibiu': {'Arad': 140, 'Oradea': 151, 'Fagaras': 99, 'Rimnicu Vilcea': 80},\n",
        "    'Oradea': {'Zerind': 71, 'Sibiu': 151},\n",
        "    'Lugoj': {'Timisoara': 111, 'Mehadia': 70},\n",
        "    'Fagaras': {'Sibiu': 99, 'Bucharest': 211},\n",
        "    'Rimnicu Vilcea': {'Sibiu': 80, 'Pitesti': 97, 'Craiova': 146},\n",
        "    'Mehadia': {'Lugoj': 70, 'Drobeta': 75},\n",
        "    'Drobeta': {'Mehadia': 75, 'Craiova': 120},\n",
        "    'Craiova': {'Drobeta': 120, 'Rimnicu Vilcea': 146, 'Pitesti': 138},\n",
        "    'Pitesti': {'Rimnicu Vilcea': 97, 'Craiova': 138, 'Bucharest': 101},\n",
        "    'Bucharest': {'Fagaras': 211, 'Pitesti': 101, 'Giurgiu': 90, 'Urziceni': 85},\n",
        "    'Giurgiu': {'Bucharest': 90},\n",
        "    'Urziceni': {'Bucharest': 85, 'Hirsova': 98, 'Vaslui': 142},\n",
        "    'Hirsova': {'Urziceni': 98, 'Eforie': 86},\n",
        "    'Eforie': {'Hirsova': 86},\n",
        "    'Vaslui': {'Urziceni': 142, 'Iasi': 92},\n",
        "    'Iasi': {'Vaslui': 92, 'Neamt': 87},\n",
        "    'Neamt': {'Iasi': 87}\n",
        "}\n",
        "\n",
        "\n",
        "class Node:\n",
        "    def __init__(self, city, cost, parent=None):\n",
        "        self.city = city\n",
        "        self.cost = cost\n",
        "        self.parent = parent\n",
        "\n",
        "    def __lt__(self, other):\n",
        "        return self.cost < other.cost\n",
        "\n",
        "\n",
        "def heuristic():  # Parameters can be node and goal (if applicable)\n",
        "    return 0  # No need for heuristic in this case\n",
        "\n",
        "\n",
        "def astar_search(graph, start, goal):\n",
        "    open_list = []\n",
        "    closed_set = set()\n",
        "    heapq.heappush(open_list, start)\n",
        "\n",
        "    while open_list:\n",
        "        current_node = heapq.heappop(open_list)\n",
        "\n",
        "        if current_node.city == goal.city:\n",
        "            pathx = []\n",
        "            while current_node:\n",
        "                pathx.append(current_node.city)\n",
        "                current_node = current_node.parent\n",
        "            return pathx[::-1]  # Reverse the path to get it from start to goal\n",
        "\n",
        "        closed_set.add(current_node.city)\n",
        "        for neighbor, distance in graph[current_node.city].items():\n",
        "            if neighbor not in closed_set:\n",
        "                new_cost = current_node.cost + distance\n",
        "                new_node = Node(neighbor, new_cost, current_node)\n",
        "                heapq.heappush(open_list, new_node)\n",
        "\n",
        "    return None  # No path found\n",
        "\n",
        "\n",
        "start_city = 'Arad'\n",
        "goal_city = 'Bucharest'\n",
        "\n",
        "start_node = Node(start_city, 0)\n",
        "goal_node = Node(goal_city, 0)\n",
        "\n",
        "path = astar_search(romania_map, start_node, goal_node)\n",
        "if path:\n",
        "    print(\"Path found:\", path)\n",
        "else:\n",
        "    print(\"No path found\")"
      ]
    },
    {
      "cell_type": "code",
      "source": [
        "#**Recursive Best-First Search**\n",
        "\n",
        "class Node:\n",
        "    def __init__(self, state, parent=None, f=float('inf')):\n",
        "        self.state = state\n",
        "        self.parent = parent\n",
        "        self.f = f\n",
        "\n",
        "\n",
        "def rbfs(start, goal):\n",
        "    f_limit = float('inf')\n",
        "    stack = [(Node(start, f=0), f_limit)]\n",
        "    visited = set()\n",
        "\n",
        "    while stack:\n",
        "        (node, f) = stack.pop()\n",
        "        visited.add(node.state)\n",
        "\n",
        "        if node.state == goal:\n",
        "            pathx = []\n",
        "            costx = node.f\n",
        "            while node is not None:\n",
        "                pathx.append(node.state)\n",
        "                node = node.parent\n",
        "            return list(reversed(pathx)), costx\n",
        "\n",
        "        successors = []\n",
        "        for neighbor, costx in get_neighbors(node.state):\n",
        "            if neighbor not in visited:\n",
        "                child = Node(neighbor, parent=node)\n",
        "                child.f = max(child.parent.f, costx)\n",
        "                successors.append(child)\n",
        "\n",
        "        if len(successors) == 0:\n",
        "            continue\n",
        "\n",
        "        successors.sort(key=lambda x: x.f)\n",
        "        best = successors[0]\n",
        "\n",
        "        if best.f > f_limit:\n",
        "            return None, best.f\n",
        "\n",
        "        alternative = successors[1].f if len(successors) > 1 else float('inf')\n",
        "        stack.append((best, min(f_limit, alternative)))\n",
        "\n",
        "    return None, float('inf')\n",
        "\n",
        "\n",
        "def get_neighbors(state):\n",
        "    # Define the successors for each state with their associated costs (simplified example).\n",
        "    successors = {\n",
        "        1: [(2, 3), (3, 5)],\n",
        "        2: [(1, 3), (4, 7)],\n",
        "        3: [(1, 5), (5, 2)],\n",
        "        4: [(2, 7), (6, 4)],\n",
        "        5: [(3, 2), (7, 6)],\n",
        "        6: [(4, 4), (8, 8)],\n",
        "        7: [(5, 6), (8, 5)],\n",
        "        8: [(6, 8), (7, 5)],\n",
        "    }\n",
        "    return successors.get(state, [])\n",
        "\n",
        "\n",
        "if __name__ == '__main__':\n",
        "    start_state = 1\n",
        "    goal_state = 8\n",
        "\n",
        "    path, cost = rbfs(start_state, goal_state)\n",
        "\n",
        "    if path is not None:\n",
        "        print(f\"Optimal path from {start_state} to {goal_state}:\")\n",
        "        print(\" -> \".join(map(str, path)))\n",
        "        print(f\"Total cost: {cost}\")\n",
        "    else:\n",
        "        print(\"No path found.\")"
      ],
      "metadata": {
        "colab": {
          "base_uri": "https://localhost:8080/"
        },
        "id": "sgD3SAy9eVER",
        "outputId": "617d7ba2-b12f-4ef5-c846-0130b4f7fc5a"
      },
      "execution_count": null,
      "outputs": [
        {
          "output_type": "stream",
          "name": "stdout",
          "text": [
            "Optimal path from 1 to 8:\n",
            "1 -> 2 -> 4 -> 6 -> 8\n",
            "Total cost: 8\n"
          ]
        }
      ]
    }
  ]
}