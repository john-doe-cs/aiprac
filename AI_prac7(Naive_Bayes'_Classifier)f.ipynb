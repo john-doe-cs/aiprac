{
  "nbformat": 4,
  "nbformat_minor": 0,
  "metadata": {
    "colab": {
      "provenance": [],
      "authorship_tag": "ABX9TyOL/dnh2pTKmdW8ox5Nhdp+",
      "include_colab_link": true
    },
    "kernelspec": {
      "name": "python3",
      "display_name": "Python 3"
    },
    "language_info": {
      "name": "python"
    }
  },
  "cells": [
    {
      "cell_type": "markdown",
      "metadata": {
        "id": "view-in-github",
        "colab_type": "text"
      },
      "source": [
        "<a href=\"https://colab.research.google.com/github/john-doe-cs/aiprac/blob/main/AI_prac7(Naive_Bayes'_Classifier)f.ipynb\" target=\"_parent\"><img src=\"https://colab.research.google.com/assets/colab-badge.svg\" alt=\"Open In Colab\"/></a>"
      ]
    },
    {
      "cell_type": "code",
      "execution_count": null,
      "metadata": {
        "colab": {
          "base_uri": "https://localhost:8080/"
        },
        "id": "9sTnpiBCjWR7",
        "outputId": "ad7c9b72-2014-4393-fa1b-fc0209bc0c94"
      },
      "outputs": [
        {
          "output_type": "stream",
          "name": "stdout",
          "text": [
            "Accuracy:  1.0\n"
          ]
        }
      ],
      "source": [
        "#Naive Bayes' Classifier\n",
        "\n",
        "from sklearn.datasets import load_iris\n",
        "from sklearn.model_selection import train_test_split\n",
        "from sklearn.naive_bayes import GaussianNB\n",
        "from sklearn.metrics import accuracy_score\n",
        "\n",
        "#Load the iris dataset\n",
        "iris = load_iris()\n",
        "A = iris.data\n",
        "y = iris.target\n",
        "\n",
        "#Split the dataset into test and training sets\n",
        "A_train, A_test, y_train, y_test = train_test_split(A, y, test_size=0.2, random_state=42)\n",
        "\n",
        "# Create a Naive Bayes Classifier\n",
        "clf = GaussianNB()\n",
        "\n",
        "# train the classifier on the training data\n",
        "clf.fit(A_train, y_train)\n",
        "\n",
        "# Make predictions on the test data\n",
        "y_pred = clf.predict(A_test)\n",
        "\n",
        "#Calculate and print accuracy\n",
        "accuracy = accuracy_score(y_test, y_pred)\n",
        "print(\"Accuracy: \", accuracy)"
      ]
    },
    {
      "cell_type": "code",
      "source": [
        "from sklearn.model_selection import train_test_split\n",
        "from sklearn.naive_bayes import GaussianNB\n",
        "from sklearn.metrics import accuracy_score\n",
        "import pandas as pd\n",
        "\n",
        "#Load the football dataset from CSV\n",
        "dataset = pd.read_csv('/content/football.csv')\n",
        "\n",
        "#Seperate features (X) and Labels (y)\n",
        "A = dataset[['Argentina', 'France']].values\n",
        "y = dataset['Result'].values\n",
        "\n",
        "A_train, A_test, y_train, y_test = train_test_split(A, y, test_size=0.2, random_state=42)\n",
        "\n",
        "# Create Naive Bayes Classifier\n",
        "clf = GaussianNB()\n",
        "\n",
        "# train the classifier on the training data\n",
        "clf.fit(A_train, y_train)\n",
        "\n",
        "# Make predictions on test data\n",
        "y_pred = clf.predict(A_test)\n",
        "\n",
        "# Calculate and print the accuracy\n",
        "accuracy = accuracy_score(y_test, y_pred)\n",
        "print(\"Accuracy: \",accuracy)"
      ],
      "metadata": {
        "colab": {
          "base_uri": "https://localhost:8080/"
        },
        "id": "DnHlBYl_jrVc",
        "outputId": "29dc69ca-cded-4cc2-ba08-0feeb4a59d50"
      },
      "execution_count": null,
      "outputs": [
        {
          "output_type": "stream",
          "name": "stdout",
          "text": [
            "Accuracy:  1.0\n"
          ]
        }
      ]
    }
  ]
}