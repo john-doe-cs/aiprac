{
  "nbformat": 4,
  "nbformat_minor": 0,
  "metadata": {
    "colab": {
      "provenance": []
    },
    "kernelspec": {
      "name": "python3",
      "display_name": "Python 3"
    },
    "language_info": {
      "name": "python"
    }
  },
  "cells": [
    {
      "cell_type": "code",
      "execution_count": null,
      "metadata": {
        "colab": {
          "base_uri": "https://localhost:8080/"
        },
        "id": "wPItnP16gg4m",
        "outputId": "87ddc7cf-0191-4b61-dbfd-bc7d7692f9fc"
      },
      "outputs": [
        {
          "output_type": "stream",
          "name": "stdout",
          "text": [
            "Input: [0 0], Predicted Output: [0.09066587]\n",
            "Input: [0 1], Predicted Output: [0.91923706]\n",
            "Input: [1 0], Predicted Output: [0.91213447]\n",
            "Input: [1 1], Predicted Output: [0.07729147]\n"
          ]
        }
      ],
      "source": [
        "#**Feedback Propagation Neural Network**\n",
        "\n",
        "import numpy as np\n",
        "\n",
        "\n",
        "# Define the sigmoid activation function and its derivative\n",
        "def sigmoid(x):\n",
        "    return 1 / (1 + np.exp(-x))\n",
        "\n",
        "\n",
        "def sigmoid_derivative(x):\n",
        "    return x * (1 - x)\n",
        "\n",
        "\n",
        "# Define the neural network class\n",
        "class NeuralNetwork:\n",
        "    def __init__(self, input_size, hidden_size, output_size):\n",
        "        # Initialize weights with random values\n",
        "        self.weights_input_hidden = np.random.uniform(-1, 1, (input_size, hidden_size))\n",
        "        self.weights_hidden_output = np.random.uniform(-1, 1, (hidden_size, output_size))\n",
        "\n",
        "    def forward(self, inputs):\n",
        "        # Forward propagation\n",
        "        self.hidden_input = np.dot(inputs, self.weights_input_hidden)\n",
        "        self.hidden_output = sigmoid(self.hidden_input)\n",
        "        self.output_input = np.dot(self.hidden_output, self.weights_hidden_output)\n",
        "        self.predicted_output = sigmoid(self.output_input)\n",
        "        return self.predicted_output\n",
        "\n",
        "    def backward(self, inputs, target, learning_rate):\n",
        "        # Backpropagation\n",
        "        error = target - self.predicted_output\n",
        "        delta_output = error * sigmoid_derivative(self.predicted_output)\n",
        "        error_hidden = delta_output.dot(self.weights_hidden_output.T)\n",
        "        delta_hidden = error_hidden * sigmoid_derivative(self.hidden_output)\n",
        "\n",
        "        # Update weights\n",
        "        self.weights_hidden_output += np.outer(self.hidden_output, delta_output) * learning_rate\n",
        "        self.weights_input_hidden += np.outer(inputs, delta_hidden) * learning_rate\n",
        "\n",
        "    def train(self, training_data, targets, epochs, learning_rate):\n",
        "        for epoch in range(epochs):\n",
        "            for i in range(len(training_data)):\n",
        "                inputs = training_data[i]\n",
        "                target = targets[i]\n",
        "                self.forward(inputs)\n",
        "                self.backward(inputs, target, learning_rate)\n",
        "\n",
        "    def predict(self, inputs):\n",
        "        return self.forward(inputs)\n",
        "\n",
        "\n",
        "# Define XOR dataset\n",
        "training_data = np.array([[0, 0], [0, 1], [1, 0], [1, 1]])\n",
        "targets = np.array([[0], [1], [1], [0]])\n",
        "\n",
        "# Create and train the neural network\n",
        "input_size = 2\n",
        "hidden_size = 4\n",
        "output_size = 1\n",
        "learning_rate = 0.1\n",
        "epochs = 10000\n",
        "\n",
        "nn = NeuralNetwork(input_size, hidden_size, output_size)\n",
        "nn.train(training_data, targets, epochs, learning_rate)\n",
        "\n",
        "# Test the trained network\n",
        "for i in range(len(training_data)):\n",
        "    inputs = training_data[i]\n",
        "    prediction = nn.predict(inputs)\n",
        "    print(f\"Input: {inputs}, Predicted Output: {prediction}\")"
      ]
    }
  ]
}