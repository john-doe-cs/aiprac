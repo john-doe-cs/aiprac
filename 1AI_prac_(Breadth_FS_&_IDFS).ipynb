{
  "nbformat": 4,
  "nbformat_minor": 0,
  "metadata": {
    "colab": {
      "provenance": [],
      "authorship_tag": "ABX9TyMXL9Bym+fa5k2ulM+Tqdwa",
      "include_colab_link": true
    },
    "kernelspec": {
      "name": "python3",
      "display_name": "Python 3"
    },
    "language_info": {
      "name": "python"
    }
  },
  "cells": [
    {
      "cell_type": "markdown",
      "metadata": {
        "id": "view-in-github",
        "colab_type": "text"
      },
      "source": [
        "<a href=\"https://colab.research.google.com/github/john-doe-cs/aiprac/blob/main/1AI_prac_(Breadth_FS_%26_IDFS).ipynb\" target=\"_parent\"><img src=\"https://colab.research.google.com/assets/colab-badge.svg\" alt=\"Open In Colab\"/></a>"
      ]
    },
    {
      "cell_type": "code",
      "execution_count": null,
      "metadata": {
        "id": "pzpgJ7HNarBd",
        "colab": {
          "base_uri": "https://localhost:8080/"
        },
        "outputId": "30290e6e-c351-4419-8a5c-8370cfa738ea"
      },
      "outputs": [
        {
          "output_type": "stream",
          "name": "stdout",
          "text": [
            "A\n",
            "B\n",
            "C\n",
            "D\n",
            "E\n",
            "F\n"
          ]
        }
      ],
      "source": [
        "#**Breadth-First Search**\n",
        "\n",
        "from collections import deque\n",
        "\n",
        "\n",
        "def bfs(graphx, start):\n",
        "    visited = set()\n",
        "    queue = deque([start])\n",
        "\n",
        "    while queue:\n",
        "        vertex = queue.popleft()\n",
        "\n",
        "        if vertex not in visited:\n",
        "            visited.add(vertex)\n",
        "            print(vertex)\n",
        "\n",
        "            # Explore neighbors\n",
        "            neighbors = graphx[vertex]\n",
        "            for neighbor in neighbors:\n",
        "                if neighbor not in visited:\n",
        "                    queue.append(neighbor)\n",
        "\n",
        "\n",
        "# Example usage\n",
        "graph = {\n",
        "    'A': ['B', 'C'],\n",
        "    'B': ['A', 'D', 'E'],\n",
        "    'C': ['A', 'F'],\n",
        "    'D': ['B'],\n",
        "    'E': ['B', 'F'],\n",
        "    'F': ['C', 'E']\n",
        "}\n",
        "\n",
        "start_vertex = 'A'\n",
        "bfs(graph, start_vertex)"
      ]
    },
    {
      "cell_type": "code",
      "source": [
        "#**Iterative DepthFirst-Search**\n",
        "\n",
        "from collections import defaultdict\n",
        "\n",
        "\n",
        "class Graph:\n",
        "    def __init__(self):\n",
        "        self.graph = defaultdict(list)\n",
        "\n",
        "    def add_edge(self, u, v):\n",
        "        self.graph[u].append(v)\n",
        "        self.graph[v].append(u)  # Assuming an undirected graph\n",
        "\n",
        "    def iterative_dfs(self, start, end):\n",
        "        if start == end:\n",
        "            return [start]\n",
        "\n",
        "        visited = set()\n",
        "        stack = [(start, [start])]\n",
        "\n",
        "        while stack:\n",
        "            current_vertex, path = stack.pop()\n",
        "            visited.add(current_vertex)\n",
        "\n",
        "            for neighbor in self.graph[current_vertex]:\n",
        "                if neighbor not in visited:\n",
        "                    if neighbor == end:\n",
        "                        return path + [neighbor]\n",
        "                    stack.append((neighbor, path + [neighbor]))\n",
        "\n",
        "        return None  # No path found\n",
        "\n",
        "\n",
        "# Example usage:\n",
        "if __name__ == \"__main__\":\n",
        "    g = Graph()\n",
        "    g.add_edge(1, 2)\n",
        "    g.add_edge(1, 3)\n",
        "    g.add_edge(2, 4)\n",
        "    g.add_edge(2, 5)\n",
        "    g.add_edge(3, 6)\n",
        "    g.add_edge(3, 7)\n",
        "    g.add_edge(4, 8)\n",
        "    g.add_edge(4, 9)\n",
        "    g.add_edge(5, 10)\n",
        "    g.add_edge(5, 11)\n",
        "    g.add_edge(6, 12)\n",
        "    g.add_edge(6, 13)\n",
        "    g.add_edge(7, 14)\n",
        "    g.add_edge(7, 15)\n",
        "\n",
        "    start_node = 1\n",
        "    end_node = 9\n",
        "    shortest_path = g.iterative_dfs(start_node, end_node)\n",
        "\n",
        "    if shortest_path:\n",
        "        print(f\"Shortest path from {start_node} to {end_node}: {shortest_path}\")\n",
        "    else:\n",
        "        print(f\"No path found from {start_node} to {end_node}\")"
      ],
      "metadata": {
        "colab": {
          "base_uri": "https://localhost:8080/"
        },
        "id": "TiqvXrMScwwC",
        "outputId": "6f16a9d2-17d9-485f-83b1-fce7f49de8cf"
      },
      "execution_count": null,
      "outputs": [
        {
          "output_type": "stream",
          "name": "stdout",
          "text": [
            "Shortest path from 1 to 9: [1, 2, 4, 9]\n"
          ]
        }
      ]
    }
  ]
}